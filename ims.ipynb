{
 "cells": [
  {
   "cell_type": "code",
   "execution_count": 16,
   "metadata": {},
   "outputs": [],
   "source": [
    "import json\n",
    "import time"
   ]
  },
  {
   "cell_type": "code",
   "execution_count": 17,
   "metadata": {},
   "outputs": [],
   "source": [
    "fd=open(\"records.json\",\"w\")\n",
    "products={'1001':{\"name\":\"Apple juice\",\"price\":40,\"quantity\":100,\"ex_date\":\"12-8-2020\",\"maf_date\":\"10-6-2020\"},\n",
    "          '1002':{\"name\":\"orange Juice\",\"price\":40,\"quantity\":100,\"ex_date\":\"12-8-2020\",\"maf_date\":\"10-6-2020\"},\n",
    "          '1003':{\"name\":\"jackfruit juice\",\"price\":40,\"quantity\":100,\"ex_date\":\"12-8-2020\",\"maf_date\":\"10-6-2020\"} ,\n",
    "         '1004':{\"name\":\"Apricot Juice\",\"price\":40,\"quantity\":100,\"ex_date\":\"12-8-2020\",\"maf_date\":\"10-6-2020\"},\n",
    "         '1005':{\"name\":\"Butter Fruit Juice\",\"price\":40,\"quantity\":100,\"ex_date\":\"12-8-2020\",\"maf_date\":\"10-6-2020\"},\n",
    "         '1006':{\"name\":\"Banana Juice\",\"price\":40,\"quantity\":100,\"ex_date\":\"12-8-2020\",\"maf_date\":\"10-6-2020\"},\n",
    "         '1007':{\"name\":\"Cape gooseberries Juice\",\"price\":40,\"quantity\":100,\"ex_date\":\"12-8-2020\",\"maf_date\":\"10-6-2020\"},\n",
    "         '1008':{\"name\":\"Cherry Juice\",\"price\":40,\"quantity\":100,\"ex_date\":\"12-8-2020\",\"maf_date\":\"10-6-2020\"},\n",
    "         '1009':{\"name\":\"Custard apple Juice\",\"price\":40,\"quantity\":100,\"ex_date\":\"12-8-2020\",\"maf_date\":\"10-6-2020\"},\n",
    "         '1010':{\"name\":\"Dates Juice\",\"price\":40,\"quantity\":100,\"ex_date\":\"12-8-2020\",\"maf_date\":\"10-6-2020\"},\n",
    "         '1011':{\"name\":\"Plum Juice\",\"price\":40,\"quantity\":100,\"ex_date\":\"12-8-2020\",\"maf_date\":\"10-6-2020\"},\n",
    "         '1012':{\"name\":\"Figs Juice\",\"price\":40,\"quantity\":100,\"ex_date\":\"12-8-2020\",\"maf_date\":\"10-6-2020\"},\n",
    "         '1013':{\"name\":\"Grape Juice\",\"price\":40,\"quantity\":100,\"ex_date\":\"12-8-2020\",\"maf_date\":\"10-6-2020\"},\n",
    "          '1014':{\"name\":\"Guava Juice\",\"price\":40,\"quantity\":100,\"ex_date\":\"12-8-2020\",\"maf_date\":\"10-6-2020\"},\n",
    "         '1015':{\"name\":\"Kiwi Juice\",\"price\":40,\"quantity\":100,\"ex_date\":\"12-8-2020\",\"maf_date\":\"10-6-2020\"},\n",
    "         '1016':{\"name\":\"Lemon Juice\",\"price\":40,\"quantity\":100,\"ex_date\":\"12-8-2020\",\"maf_date\":\"10-6-2020\"},\n",
    "         '1017':{\"name\":\"Lychee Juice\",\"price\":40,\"quantity\":100,\"ex_date\":\"12-8-2020\",\"maf_date\":\"10-6-2020\"},\n",
    "         '1018':{\"name\":\"Mango Juice\",\"price\":40,\"quantity\":100,\"ex_date\":\"12-8-2020\",\"maf_date\":\"10-6-2020\"},\n",
    "         '1019':{\"name\":\"Papaya Juice\",\"price\":40,\"quantity\":100,\"ex_date\":\"12-8-2020\",\"maf_date\":\"10-6-2020\"},\n",
    "         '1020':{\"name\":\"Pineapple Juice\",\"price\":40,\"quantity\":100,\"ex_date\":\"12-8-2020\",\"maf_date\":\"10-6-2020\"},\n",
    "         '1021':{\"name\":\"Sapota Juice\",\"price\":40,\"quantity\":100,\"ex_date\":\"12-8-2020\",\"maf_date\":\"10-6-2020\"},\n",
    "         '1022':{\"name\":\"Star fruit Juice\",\"price\":40,\"quantity\":100,\"ex_date\":\"12-8-2020\",\"maf_date\":\"10-6-2020\"},\n",
    "         '1023':{\"name\":\"Watermelon Juice\",\"price\":40,\"quantity\":100,\"ex_date\":\"12-8-2020\",\"maf_date\":\"10-6-2020\"},\n",
    "         '1024':{\"name\":\"Rose Milk\",\"price\":40,\"quantity\":100,\"ex_date\":\"12-8-2020\",\"maf_date\":\"10-6-2020\"},\n",
    "         '1025':{\"name\":\"badam milk \",\"price\":40,\"quantity\":100,\"ex_date\":\"12-8-2020\",\"maf_date\":\"10-6-2020\"},\n",
    "         '1026':{\"name\":\"vannilla milk\",\"price\":40,\"quantity\":100,\"ex_date\":\"12-8-2020\",\"maf_date\":\"10-6-2020\"},\n",
    "         '1027':{\"name\":\"pista milk\",\"price\":40,\"quantity\":100,\"ex_date\":\"12-8-2020\",\"maf_date\":\"10-6-2020\"},\n",
    "         '1028':{\"name\":\"blackcurrent milk\",\"price\":40,\"quantity\":100,\"ex_date\":\"12-8-2020\",\"maf_date\":\"10-6-2020\"},\n",
    "         '1028':{\"name\":\"mixed juice\",\"price\":40,\"quantity\":100,\"ex_date\":\"12-8-2020\",\"maf_date\":\"10-6-2020\"},\n",
    "         '1030':{\"name\":\"Mojito\",\"price\":40,\"quantity\":100,\"ex_date\":\"12-8-2020\",\"maf_date\":\"10-6-2020\"}}\n",
    "jformat=json.dumps(products)\n",
    "fd.write(jformat)\n",
    "fd.close()\n"
   ]
  },
  {
   "cell_type": "code",
   "execution_count": 18,
   "metadata": {},
   "outputs": [],
   "source": [
    "fd=open(\"records.json\",\"r\")\n",
    "txt=fd.read()\n",
    "fd.close()\n",
    "products=json.loads(txt)\n",
    "\n",
    "fd=open(\"sales.json\",\"r\")\n",
    "txt=fd.read()\n",
    "fd.close()\n",
    "sales=json.loads(txt)\n",
    "\n"
   ]
  },
  {
   "cell_type": "code",
   "execution_count": 19,
   "metadata": {},
   "outputs": [
    {
     "name": "stdout",
     "output_type": "stream",
     "text": [
      "*******************MENU*******************\n",
      "product_id    product_name\n",
      "\n",
      "1001          Apple juice\n",
      "1002          orange Juice\n",
      "1003          jackfruit juice\n",
      "1004          Apricot Juice\n",
      "1005          Butter Fruit Juice\n",
      "1006          Banana Juice\n",
      "1007          Cape gooseberries Juice\n",
      "1008          Cherry Juice\n",
      "1009          Custard apple Juice\n",
      "1010          Dates Juice\n",
      "1011          Plum Juice\n",
      "1012          Figs Juice\n",
      "1013          Grape Juice\n",
      "1014          Guava Juice\n",
      "1015          Kiwi Juice\n",
      "1016          Lemon Juice\n",
      "1017          Lychee Juice\n",
      "1018          Mango Juice\n",
      "1019          Papaya Juice\n",
      "1020          Pineapple Juice\n",
      "1021          Sapota Juice\n",
      "1022          Star fruit Juice\n",
      "1023          Watermelon Juice\n",
      "1024          Rose Milk\n",
      "1025          badam milk \n",
      "1026          vannilla milk\n",
      "1027          pista milk\n",
      "1028          mixed juice\n",
      "1030          Mojito\n"
     ]
    }
   ],
   "source": [
    "print(\"*******************MENU*******************\")\n",
    "print(\"product_id    product_name\",end=\"\\n\\n\")\n",
    "for i in products.keys():\n",
    "    print(i,\"        \",products[i][\"name\"])"
   ]
  },
  {
   "cell_type": "code",
   "execution_count": 20,
   "metadata": {},
   "outputs": [
    {
     "name": "stdout",
     "output_type": "stream",
     "text": [
      "Enter the product id :\n",
      "Enter The Quantity :\n"
     ]
    },
    {
     "ename": "ValueError",
     "evalue": "invalid literal for int() with base 10: ''",
     "output_type": "error",
     "traceback": [
      "\u001b[1;31m---------------------------------------------------------------------------\u001b[0m",
      "\u001b[1;31mValueError\u001b[0m                                Traceback (most recent call last)",
      "\u001b[1;32m<ipython-input-20-824cd1ca4c3f>\u001b[0m in \u001b[0;36m<module>\u001b[1;34m\u001b[0m\n\u001b[0;32m      1\u001b[0m \u001b[0muser_id\u001b[0m\u001b[1;33m=\u001b[0m\u001b[0minput\u001b[0m\u001b[1;33m(\u001b[0m\u001b[1;34m\"Enter the product id :\"\u001b[0m\u001b[1;33m)\u001b[0m\u001b[1;33m\u001b[0m\u001b[1;33m\u001b[0m\u001b[0m\n\u001b[1;32m----> 2\u001b[1;33m \u001b[0mquantity\u001b[0m\u001b[1;33m=\u001b[0m\u001b[0mint\u001b[0m\u001b[1;33m(\u001b[0m\u001b[0minput\u001b[0m\u001b[1;33m(\u001b[0m\u001b[1;34m\"Enter The Quantity :\"\u001b[0m\u001b[1;33m)\u001b[0m\u001b[1;33m)\u001b[0m\u001b[1;33m\u001b[0m\u001b[1;33m\u001b[0m\u001b[0m\n\u001b[0m\u001b[0;32m      3\u001b[0m \u001b[0mproduct_id\u001b[0m\u001b[1;33m=\u001b[0m\u001b[0mproducts\u001b[0m\u001b[1;33m.\u001b[0m\u001b[0mkeys\u001b[0m\u001b[1;33m(\u001b[0m\u001b[1;33m)\u001b[0m\u001b[1;33m\u001b[0m\u001b[1;33m\u001b[0m\u001b[0m\n\u001b[0;32m      4\u001b[0m \u001b[1;33m\u001b[0m\u001b[0m\n\u001b[0;32m      5\u001b[0m \u001b[1;32mif\u001b[0m \u001b[1;33m(\u001b[0m\u001b[0muser_id\u001b[0m \u001b[1;32mnot\u001b[0m \u001b[1;32min\u001b[0m \u001b[0mproduct_id\u001b[0m\u001b[1;33m)\u001b[0m\u001b[1;33m:\u001b[0m\u001b[1;33m\u001b[0m\u001b[1;33m\u001b[0m\u001b[0m\n",
      "\u001b[1;31mValueError\u001b[0m: invalid literal for int() with base 10: ''"
     ]
    }
   ],
   "source": [
    "user_id=input(\"Enter the product id :\")\n",
    "quantity=int(input(\"Enter The Quantity :\"))\n",
    "product_id=products.keys()\n",
    "\n",
    "if (user_id not in product_id):\n",
    "    print(\"Entered wrong Product Id \")\n",
    "    \n",
    "    \n",
    "    \n",
    "flag=0\n",
    "if(products[user_id][\"quantity\"]<quantity):\n",
    "    print(\"The available quantity is :\" ,products[user_id][\"quantity\"])\n",
    "    ans=int(input(\"Do you want to take these quantity(1-yes/0-No)\"))\n",
    "    if(ans):\n",
    "        print(\"The bill is processed!!\")\n",
    "        quantity=products[user_id][\"quantity\"]\n",
    "        \n",
    "    else:\n",
    "        flag=1\n",
    "        print(\"choose any other product\")\n",
    "  \n",
    "products[user_id][\"quantity\"]-=quantity\n",
    "   "
   ]
  },
  {
   "cell_type": "code",
   "execution_count": 21,
   "metadata": {},
   "outputs": [
    {
     "name": "stdout",
     "output_type": "stream",
     "text": [
      "*************Bill*********** Time : Fri Sep  3 13:15:32 2021 **********************\n"
     ]
    },
    {
     "ename": "KeyError",
     "evalue": "''",
     "output_type": "error",
     "traceback": [
      "\u001b[1;31m---------------------------------------------------------------------------\u001b[0m",
      "\u001b[1;31mKeyError\u001b[0m                                  Traceback (most recent call last)",
      "\u001b[1;32m<ipython-input-21-0ef342f754db>\u001b[0m in \u001b[0;36m<module>\u001b[1;34m\u001b[0m\n\u001b[0;32m      2\u001b[0m     \u001b[0mprint\u001b[0m\u001b[1;33m(\u001b[0m\u001b[1;34m\"*************Bill***********\"\u001b[0m\u001b[1;33m,\u001b[0m\u001b[0mend\u001b[0m\u001b[1;33m=\u001b[0m\u001b[1;34m\" \"\u001b[0m\u001b[1;33m)\u001b[0m\u001b[1;33m\u001b[0m\u001b[1;33m\u001b[0m\u001b[0m\n\u001b[0;32m      3\u001b[0m     \u001b[0mprint\u001b[0m\u001b[1;33m(\u001b[0m\u001b[1;34m\"Time :\"\u001b[0m\u001b[1;33m,\u001b[0m\u001b[0mtime\u001b[0m\u001b[1;33m.\u001b[0m\u001b[0mctime\u001b[0m\u001b[1;33m(\u001b[0m\u001b[1;33m)\u001b[0m\u001b[1;33m,\u001b[0m\u001b[1;34m\"**********************\"\u001b[0m\u001b[1;33m)\u001b[0m\u001b[1;33m\u001b[0m\u001b[1;33m\u001b[0m\u001b[0m\n\u001b[1;32m----> 4\u001b[1;33m     \u001b[0mprint\u001b[0m\u001b[1;33m(\u001b[0m\u001b[1;34m\"Product :\"\u001b[0m\u001b[1;33m,\u001b[0m\u001b[0mproducts\u001b[0m\u001b[1;33m[\u001b[0m\u001b[0muser_id\u001b[0m\u001b[1;33m]\u001b[0m\u001b[1;33m[\u001b[0m\u001b[1;34m\"name\"\u001b[0m\u001b[1;33m]\u001b[0m\u001b[1;33m)\u001b[0m\u001b[1;33m\u001b[0m\u001b[1;33m\u001b[0m\u001b[0m\n\u001b[0m\u001b[0;32m      5\u001b[0m     \u001b[0mprint\u001b[0m\u001b[1;33m(\u001b[0m\u001b[1;34m\"Quanity :\"\u001b[0m\u001b[1;33m,\u001b[0m\u001b[0mquantity\u001b[0m\u001b[1;33m)\u001b[0m\u001b[1;33m\u001b[0m\u001b[1;33m\u001b[0m\u001b[0m\n\u001b[0;32m      6\u001b[0m     \u001b[0mprint\u001b[0m\u001b[1;33m(\u001b[0m\u001b[1;34m\"Price :\"\u001b[0m\u001b[1;33m,\u001b[0m\u001b[0mproducts\u001b[0m\u001b[1;33m[\u001b[0m\u001b[0muser_id\u001b[0m\u001b[1;33m]\u001b[0m\u001b[1;33m[\u001b[0m\u001b[1;34m\"price\"\u001b[0m\u001b[1;33m]\u001b[0m\u001b[1;33m)\u001b[0m\u001b[1;33m\u001b[0m\u001b[1;33m\u001b[0m\u001b[0m\n",
      "\u001b[1;31mKeyError\u001b[0m: ''"
     ]
    }
   ],
   "source": [
    "if(flag==0):\n",
    "    print(\"*************Bill***********\",end=\" \")\n",
    "    print(\"Time :\",time.ctime(),\"**********************\")\n",
    "    print(\"Product :\",products[user_id][\"name\"])\n",
    "    print(\"Quanity :\",quantity)\n",
    "    print(\"Price :\",products[user_id][\"price\"])\n",
    "    print(\"Billing Amount :\",products[user_id][\"price\"]*quantity)\n",
    "    print(\"***********************************************************************************\")"
   ]
  },
  {
   "cell_type": "code",
   "execution_count": 22,
   "metadata": {},
   "outputs": [
    {
     "ename": "KeyError",
     "evalue": "''",
     "output_type": "error",
     "traceback": [
      "\u001b[1;31m---------------------------------------------------------------------------\u001b[0m",
      "\u001b[1;31mKeyError\u001b[0m                                  Traceback (most recent call last)",
      "\u001b[1;32m<ipython-input-22-e775b8890e9e>\u001b[0m in \u001b[0;36m<module>\u001b[1;34m\u001b[0m\n\u001b[0;32m      1\u001b[0m \u001b[0mtrans_id\u001b[0m\u001b[1;33m=\u001b[0m\u001b[0mlen\u001b[0m\u001b[1;33m(\u001b[0m\u001b[0msales\u001b[0m\u001b[1;33m)\u001b[0m\u001b[1;33m+\u001b[0m\u001b[1;36m1\u001b[0m\u001b[1;33m\u001b[0m\u001b[1;33m\u001b[0m\u001b[0m\n\u001b[1;32m----> 2\u001b[1;33m \u001b[0mtrans_details\u001b[0m\u001b[1;33m=\u001b[0m\u001b[0mproducts\u001b[0m\u001b[1;33m[\u001b[0m\u001b[0muser_id\u001b[0m\u001b[1;33m]\u001b[0m\u001b[1;33m.\u001b[0m\u001b[0mcopy\u001b[0m\u001b[1;33m(\u001b[0m\u001b[1;33m)\u001b[0m\u001b[1;33m\u001b[0m\u001b[1;33m\u001b[0m\u001b[0m\n\u001b[0m\u001b[0;32m      3\u001b[0m \u001b[0mtrans_details\u001b[0m\u001b[1;33m[\u001b[0m\u001b[1;34m'time'\u001b[0m\u001b[1;33m]\u001b[0m\u001b[1;33m=\u001b[0m\u001b[0mtime\u001b[0m\u001b[1;33m.\u001b[0m\u001b[0mctime\u001b[0m\u001b[1;33m(\u001b[0m\u001b[1;33m)\u001b[0m\u001b[1;33m\u001b[0m\u001b[1;33m\u001b[0m\u001b[0m\n\u001b[0;32m      4\u001b[0m \u001b[0mtrans_details\u001b[0m\u001b[1;33m[\u001b[0m\u001b[1;34m'quantity'\u001b[0m\u001b[1;33m]\u001b[0m\u001b[1;33m=\u001b[0m\u001b[0mquantity\u001b[0m\u001b[1;33m\u001b[0m\u001b[1;33m\u001b[0m\u001b[0m\n\u001b[0;32m      5\u001b[0m \u001b[0msales\u001b[0m\u001b[1;33m[\u001b[0m\u001b[0mtrans_id\u001b[0m\u001b[1;33m]\u001b[0m\u001b[1;33m=\u001b[0m\u001b[0mtrans_details\u001b[0m\u001b[1;33m\u001b[0m\u001b[1;33m\u001b[0m\u001b[0m\n",
      "\u001b[1;31mKeyError\u001b[0m: ''"
     ]
    }
   ],
   "source": [
    "trans_id=len(sales)+1\n",
    "trans_details=products[user_id].copy()\n",
    "trans_details['time']=time.ctime()\n",
    "trans_details['quantity']=quantity\n",
    "sales[trans_id]=trans_details"
   ]
  },
  {
   "cell_type": "code",
   "execution_count": 23,
   "metadata": {},
   "outputs": [
    {
     "name": "stdout",
     "output_type": "stream",
     "text": [
      "To Add Product\n",
      "Enter the id of the product\n",
      "Enter the name of the product\n",
      "enter the price\n"
     ]
    },
    {
     "ename": "ValueError",
     "evalue": "invalid literal for int() with base 10: ''",
     "output_type": "error",
     "traceback": [
      "\u001b[1;31m---------------------------------------------------------------------------\u001b[0m",
      "\u001b[1;31mValueError\u001b[0m                                Traceback (most recent call last)",
      "\u001b[1;32m<ipython-input-23-d131ae52dbc8>\u001b[0m in \u001b[0;36m<module>\u001b[1;34m\u001b[0m\n\u001b[0;32m      4\u001b[0m \u001b[0mnew_id\u001b[0m\u001b[1;33m=\u001b[0m\u001b[0minput\u001b[0m\u001b[1;33m(\u001b[0m\u001b[1;34m\"Enter the id of the product\"\u001b[0m\u001b[1;33m)\u001b[0m\u001b[1;33m\u001b[0m\u001b[1;33m\u001b[0m\u001b[0m\n\u001b[0;32m      5\u001b[0m \u001b[0mnname\u001b[0m\u001b[1;33m=\u001b[0m\u001b[0minput\u001b[0m\u001b[1;33m(\u001b[0m\u001b[1;34m\"Enter the name of the product\"\u001b[0m\u001b[1;33m)\u001b[0m\u001b[1;33m\u001b[0m\u001b[1;33m\u001b[0m\u001b[0m\n\u001b[1;32m----> 6\u001b[1;33m \u001b[0mnprice\u001b[0m\u001b[1;33m=\u001b[0m\u001b[0mint\u001b[0m\u001b[1;33m(\u001b[0m\u001b[0minput\u001b[0m\u001b[1;33m(\u001b[0m\u001b[1;34m\"enter the price\"\u001b[0m\u001b[1;33m)\u001b[0m\u001b[1;33m)\u001b[0m\u001b[1;33m\u001b[0m\u001b[1;33m\u001b[0m\u001b[0m\n\u001b[0m\u001b[0;32m      7\u001b[0m \u001b[0mnquantity\u001b[0m\u001b[1;33m=\u001b[0m\u001b[0mint\u001b[0m\u001b[1;33m(\u001b[0m\u001b[0minput\u001b[0m\u001b[1;33m(\u001b[0m\u001b[1;34m\"enter the quantity\"\u001b[0m\u001b[1;33m)\u001b[0m\u001b[1;33m)\u001b[0m\u001b[1;33m\u001b[0m\u001b[1;33m\u001b[0m\u001b[0m\n\u001b[0;32m      8\u001b[0m \u001b[0mnmdate\u001b[0m\u001b[1;33m=\u001b[0m\u001b[0minput\u001b[0m\u001b[1;33m(\u001b[0m\u001b[1;34m\"Enter the maf date of the product\"\u001b[0m\u001b[1;33m)\u001b[0m\u001b[1;33m\u001b[0m\u001b[1;33m\u001b[0m\u001b[0m\n",
      "\u001b[1;31mValueError\u001b[0m: invalid literal for int() with base 10: ''"
     ]
    }
   ],
   "source": [
    "print(\"To Add Product\")\n",
    "product_id=products.keys()\n",
    "new_product={}\n",
    "new_id=input(\"Enter the id of the product\")\n",
    "nname=input(\"Enter the name of the product\")\n",
    "nprice=int(input(\"enter the price\"))\n",
    "nquantity=int(input(\"enter the quantity\"))\n",
    "nmdate=input(\"Enter the maf date of the product\")\n",
    "medate=input(\"Enter the ex date of the product\")\n",
    "new_product[\"name\"]=nname\n",
    "new_product[\"price\"]=nprice\n",
    "new_product[\"quantity\"]=nquantity\n",
    "new_product[\"ex_date\"]=medate\n",
    "new_product[\"maf_date\"]=nmdate\n",
    "products[new_id]=new_product\n",
    "\n"
   ]
  },
  {
   "cell_type": "code",
   "execution_count": 24,
   "metadata": {},
   "outputs": [],
   "source": [
    "fd=open(\"records.json\",\"w\")\n",
    "jformat=json.dumps(products)\n",
    "fd.write(jformat)\n",
    "fd.close()"
   ]
  },
  {
   "cell_type": "code",
   "execution_count": 25,
   "metadata": {},
   "outputs": [],
   "source": [
    "fd=open(\"sales.json\",\"w\")\n",
    "jformat=json.dumps(sales)\n",
    "fd.write(jformat)\n",
    "fd.close()"
   ]
  },
  {
   "cell_type": "code",
   "execution_count": null,
   "metadata": {},
   "outputs": [],
   "source": []
  },
  {
   "cell_type": "code",
   "execution_count": null,
   "metadata": {},
   "outputs": [],
   "source": []
  }
 ],
 "metadata": {
  "kernelspec": {
   "display_name": "Python 3",
   "language": "python",
   "name": "python3"
  },
  "language_info": {
   "codemirror_mode": {
    "name": "ipython",
    "version": 3
   },
   "file_extension": ".py",
   "mimetype": "text/x-python",
   "name": "python",
   "nbconvert_exporter": "python",
   "pygments_lexer": "ipython3",
   "version": "3.7.6"
  }
 },
 "nbformat": 4,
 "nbformat_minor": 4
}
